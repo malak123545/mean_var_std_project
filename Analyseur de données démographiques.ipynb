{
 "cells": [
  {
   "cell_type": "code",
   "execution_count": null,
   "id": "9dd14117",
   "metadata": {},
   "outputs": [],
   "source": [
    "import pandas as pd\n",
    "\n",
    "def analyze_demographics(file_path):\n",
    "    data = pd.read_csv(file_path)\n",
    "\n",
    "    race_counts = data['race'].value_counts()\n",
    "\n",
    "    average_age_men = data.loc[data['sex'] == 'Male', 'age'].mean()\n",
    "\n",
    "    percent_bachelors = (data['education'] == 'Bachelors').mean() * 100\n",
    "\n",
    "    higher_edu = ['Bachelors', 'Masters', 'Doctorate']\n",
    "    higher_edu_rich = data[(data['education'].isin(higher_edu)) & (data['salary'] == '>50K')]\n",
    "    percent_higher_edu_rich = (len(higher_edu_rich) / len(data[data['education'].isin(higher_edu)])) * 100\n",
    "\n",
    "    lower_edu = data[~data['education'].isin(higher_edu)]\n",
    "    lower_edu_rich = lower_edu[lower_edu['salary'] == '>50K']\n",
    "    percent_lower_edu_rich = (len(lower_edu_rich) / len(lower_edu)) * 100\n",
    "\n",
    "    min_hours = data['hours-per-week'].min()\n",
    "\n",
    "    min_workers = data[data['hours-per-week'] == min_hours]\n",
    "    rich_min_workers = min_workers[min_workers['salary'] == '>50K']\n",
    "    rich_percentage_min_hours = (len(rich_min_workers) / len(min_workers)) * 100\n",
    "    \n",
    "    country_counts = data['native-country'].value_counts()\n",
    "    rich_by_country = data[data['salary'] == '>50K']['native-country'].value_counts()\n",
    "    rich_percentage_country = (rich_by_country / country_counts) * 100\n",
    "    top_country = rich_percentage_country.idxmax()\n",
    "    top_country_percentage = round(rich_percentage_country.max(), 1)\n",
    "\n",
    "    rich_indians = data[(data['native-country'] == 'India') & (data['salary'] == '>50K')]\n",
    "    top_occupation_india = rich_indians['occupation'].mode()[0]\n",
    "    return {\n",
    "        'race_counts': race_counts,\n",
    "        'average_age_men': round(average_age_men, 1),\n",
    "        'percent_bachelors': round(percent_bachelors, 1),\n",
    "        'percent_higher_edu_rich': round(percent_higher_edu_rich, 1),\n",
    "        'percent_lower_edu_rich': round(percent_lower_edu_rich, 1),\n",
    "        'min_hours': min_hours,\n",
    "        'rich_percentage_min_hours': round(rich_percentage_min_hours, 1),\n",
    "        'top_country': top_country,\n",
    "        'top_country_percentage': top_country_percentage,\n",
    "        'top_occupation_india': top_occupation_india\n",
    "    }\n",
    "if __name__ == \"__main__\":\n",
    "    results = analyze_demographics('demographic_data.csv')\n",
    "    for key, value in results.items():\n",
    "        print(f\"{key}: {value}\")\n"
   ]
  }
 ],
 "metadata": {
  "kernelspec": {
   "display_name": "Python 3 (ipykernel)",
   "language": "python",
   "name": "python3"
  },
  "language_info": {
   "codemirror_mode": {
    "name": "ipython",
    "version": 3
   },
   "file_extension": ".py",
   "mimetype": "text/x-python",
   "name": "python",
   "nbconvert_exporter": "python",
   "pygments_lexer": "ipython3",
   "version": "3.11.5"
  }
 },
 "nbformat": 4,
 "nbformat_minor": 5
}
