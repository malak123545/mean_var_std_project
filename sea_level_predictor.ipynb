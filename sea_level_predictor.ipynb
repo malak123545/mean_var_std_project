{
 "cells": [
  {
   "cell_type": "code",
   "execution_count": null,
   "id": "df0e7a3c",
   "metadata": {},
   "outputs": [],
   "source": [
    "import pandas as pd\n",
    "import matplotlib.pyplot as plt\n",
    "from scipy.stats import linregress\n",
    "import numpy as np\n",
    "\n",
    "def draw_plot():\n",
    "    # Charger les données\n",
    "    df = pd.read_csv('epa-sea-level.csv')\n",
    "\n",
    "    # Création du nuage de points\n",
    "    plt.figure(figsize=(12,6))\n",
    "    plt.scatter(df['Year'], df['CSIRO Adjusted Sea Level'], color='blue', s=10, label='Data points')\n",
    "\n",
    "    # Régression linéaire sur toutes les données\n",
    "    slope, intercept, r_value, p_value, std_err = linregress(df['Year'], df['CSIRO Adjusted Sea Level'])\n",
    "    \n",
    "    # Générer les années pour la ligne de tendance (jusqu'en 2050)\n",
    "    years_all = np.arange(df['Year'].min(), 2051)\n",
    "    sea_level_all = intercept + slope * years_all\n",
    "    plt.plot(years_all, sea_level_all, 'r', label='Fit: 1880 - latest')\n",
    "\n",
    "    # Régression linéaire depuis l’an 2000\n",
    "    df_recent = df[df['Year'] >= 2000]\n",
    "    slope2, intercept2, _, _, _ = linregress(df_recent['Year'], df_recent['CSIRO Adjusted Sea Level'])\n",
    "\n",
    "    # Générer la ligne pour 2000 - 2050\n",
    "    years_recent = np.arange(2000, 2051)\n",
    "    sea_level_recent = intercept2 + slope2 * years_recent\n",
    "    plt.plot(years_recent, sea_level_recent, 'green', label='Fit: 2000 - latest')\n",
    "\n",
    "    # Étiquettes et titre\n",
    "    plt.xlabel('Year')\n",
    "    plt.ylabel('Sea Level (inches)')\n",
    "    plt.title('Rise in Sea Level')\n",
    "    plt.legend()\n",
    "    plt.grid(True)\n",
    "\n",
    "    # Sauvegarde du graphique\n",
    "    plt.savefig('sea_level_plot.png')\n",
    "\n",
    "    return plt.gcf()\n",
    "\n",
    "if __name__ == \"__main__\":\n",
    "    draw_plot()\n",
    "    plt.show()\n"
   ]
  }
 ],
 "metadata": {
  "kernelspec": {
   "display_name": "Python 3 (ipykernel)",
   "language": "python",
   "name": "python3"
  },
  "language_info": {
   "codemirror_mode": {
    "name": "ipython",
    "version": 3
   },
   "file_extension": ".py",
   "mimetype": "text/x-python",
   "name": "python",
   "nbconvert_exporter": "python",
   "pygments_lexer": "ipython3",
   "version": "3.11.5"
  }
 },
 "nbformat": 4,
 "nbformat_minor": 5
}
