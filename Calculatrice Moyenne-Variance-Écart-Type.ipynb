{
 "cells": [
  {
   "cell_type": "code",
   "execution_count": 1,
   "id": "a3e46acd",
   "metadata": {},
   "outputs": [
    {
     "name": "stdout",
     "output_type": "stream",
     "text": [
      "{'mean': [[1.0, 4.0, 7.0], [3.0, 4.0, 5.0], 4.0], 'variance': [[0.6666666666666666, 0.6666666666666666, 0.6666666666666666], [6.0, 6.0, 6.0], 6.666666666666667], 'standard deviation': [[0.816496580927726, 0.816496580927726, 0.816496580927726], [2.449489742783178, 2.449489742783178, 2.449489742783178], 2.581988897471611], 'max': [[2, 5, 8], [6, 7, 8], 8], 'min': [[0, 3, 6], [0, 1, 2], 0], 'sum': [[3, 12, 21], [9, 12, 15], 36]}\n"
     ]
    }
   ],
   "source": [
    "import numpy as np\n",
    "\n",
    "def calculate(list_of_numbers):\n",
    "    if len(list_of_numbers) != 9:\n",
    "        raise ValueError(\"La liste doit contenir neuf numéros\")\n",
    "    arr = np.array(list_of_numbers).reshape(3, 3)\n",
    "    mean_axis0 = arr.mean(axis=0).tolist()\n",
    "    mean_axis1 = arr.mean(axis=1).tolist()\n",
    "    mean_flattened = arr.mean().item()\n",
    "    \n",
    "    var_axis0 = arr.var(axis=0).tolist()\n",
    "    var_axis1 = arr.var(axis=1).tolist()\n",
    "    var_flattened = arr.var().item()\n",
    "    \n",
    "    std_axis0 = arr.std(axis=0).tolist()\n",
    "    std_axis1 = arr.std(axis=1).tolist()\n",
    "    std_flattened = arr.std().item()\n",
    "    \n",
    "    max_axis0 = arr.max(axis=0).tolist()\n",
    "    max_axis1 = arr.max(axis=1).tolist()\n",
    "    max_flattened = arr.max().item()\n",
    "    \n",
    "    min_axis0 = arr.min(axis=0).tolist()\n",
    "    min_axis1 = arr.min(axis=1).tolist()\n",
    "    min_flattened = arr.min().item()\n",
    "    \n",
    "    sum_axis0 = arr.sum(axis=0).tolist()\n",
    "    sum_axis1 = arr.sum(axis=1).tolist()\n",
    "    sum_flattened = arr.sum().item()\n",
    "    \n",
    "    calculations = {\n",
    "        'mean': [mean_axis1, mean_axis0, mean_flattened],\n",
    "        'variance': [var_axis1, var_axis0, var_flattened],\n",
    "        'standard deviation': [std_axis1, std_axis0, std_flattened],\n",
    "        'max': [max_axis1, max_axis0, max_flattened],\n",
    "        'min': [min_axis1, min_axis0, min_flattened],\n",
    "        'sum': [sum_axis1, sum_axis0, sum_flattened]\n",
    "    }\n",
    "    \n",
    "    return calculations\n",
    "\n",
    "if __name__ == \"__main__\":\n",
    "    data = [0,1,2,3,4,5,6,7,8]\n",
    "    result = calculate(data)\n",
    "    print(result)\n"
   ]
  },
  {
   "cell_type": "code",
   "execution_count": null,
   "id": "ca399d62",
   "metadata": {},
   "outputs": [],
   "source": []
  }
 ],
 "metadata": {
  "kernelspec": {
   "display_name": "Python 3 (ipykernel)",
   "language": "python",
   "name": "python3"
  },
  "language_info": {
   "codemirror_mode": {
    "name": "ipython",
    "version": 3
   },
   "file_extension": ".py",
   "mimetype": "text/x-python",
   "name": "python",
   "nbconvert_exporter": "python",
   "pygments_lexer": "ipython3",
   "version": "3.11.5"
  }
 },
 "nbformat": 4,
 "nbformat_minor": 5
}
